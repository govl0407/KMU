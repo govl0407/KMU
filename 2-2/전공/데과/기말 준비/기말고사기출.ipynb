{
  "nbformat": 4,
  "nbformat_minor": 0,
  "metadata": {
    "colab": {
      "provenance": []
    },
    "kernelspec": {
      "name": "python3",
      "display_name": "Python 3"
    },
    "language_info": {
      "name": "python"
    }
  },
  "cells": [
    {
      "cell_type": "code",
      "execution_count": null,
      "metadata": {
        "colab": {
          "base_uri": "https://localhost:8080/"
        },
        "id": "S2UC2roPCpbI",
        "outputId": "b491d078-d1c2-45f6-afc7-e3a73ee7f32f"
      },
      "outputs": [
        {
          "output_type": "stream",
          "name": "stdout",
          "text": [
            "[array([-1,  1,  0, -1,  1]), array([-1,  0,  2, -1,  0]), array([ 1.5,  0. ,  0.5, -1.5, -0.5]), array([ 2,  1, -2,  0, -1]), array([-1,  1,  0,  2, -2])]\n",
            "1.0\n",
            "0.4082482904638631\n",
            "-0.11180339887498948\n",
            "-0.31622776601683794\n",
            "-0.31622776601683794\n"
          ]
        },
        {
          "output_type": "execute_result",
          "data": {
            "text/plain": [
              "5.37714732838117"
            ]
          },
          "metadata": {},
          "execution_count": 15
        }
      ],
      "source": [
        "from re import M\n",
        "#영화간 유사도 구하기, 유사도가 가장 높은 2개 찾기(centered cosine)\n",
        "import numpy as np\n",
        "x=np.array([2,4,3,2,4])\n",
        "#빈자리를 평균으로 채우고 전체에서 평균을 빼기\n",
        "a=np.array([2,3,5,2,3])\n",
        "b=np.array([5,14/4,4,2,3])\n",
        "c=np.array([5,4,1,3,2])\n",
        "d=np.array([2,4,3,5,1])\n",
        "arr = []\n",
        "arr.append(x)\n",
        "arr.append(a)\n",
        "arr.append(b)\n",
        "arr.append(c)\n",
        "arr.append(d)\n",
        "for i in range(5):\n",
        "  m = arr[i].mean()\n",
        "  for j in range(5):\n",
        "    arr[i][j]-= m\n",
        "print(arr)\n",
        "\n",
        "from math import *\n",
        "def CCS(a,b):#center cosine similiarity\n",
        "    dot_product = np.dot(a, b)\n",
        "    norm_a = np.linalg.norm(a)\n",
        "    norm_b = np.linalg.norm(b)\n",
        "    similarity = dot_product / (norm_a * norm_b)\n",
        "    return similarity\n",
        "\n",
        "xx = CCS(arr[0],arr[0])\n",
        "xa = CCS(arr[0],arr[1])\n",
        "xb = CCS(arr[0],arr[2])\n",
        "xc = CCS(arr[0],arr[3])\n",
        "xd = CCS(arr[0],arr[4])\n",
        "print(xx)\n",
        "print(xa)\n",
        "print(xb)\n",
        "print(xc)\n",
        "print(xd)\n",
        "#터널, 보이스가 유사한 2개\n",
        "\n",
        "#colaborate filtering\n",
        "a=(5*xa + 4*xb)\n",
        "b=(xa+xb)\n",
        "a/b"
      ]
    },
    {
      "cell_type": "code",
      "source": [],
      "metadata": {
        "id": "ta9yNma7QhcT"
      },
      "execution_count": null,
      "outputs": []
    },
    {
      "cell_type": "code",
      "source": [
        "import pickle\n",
        "data = pickle.load(open(\"final_dataset1.pkl\",\"rb\"))\n",
        "from sklearn.cluster import KMeans\n",
        "cost = [0]\n",
        "\n",
        "for i in range(1,16):\n",
        "  kmeans = KMeans(n_clusters =i)\n",
        "  kmeans.fit(data)#학습\n",
        "  labels = kmeans.labels_\n",
        "  centroids = kmeans.cluster_centers_\n",
        "  var = 0#분산\n",
        "  for i in range(6051):\n",
        "    sum = 0\n",
        "    for j in range(10):\n",
        "      sum += (centroids[labels[i]][j]-data[i][j])**2\n",
        "    var+=sum\n",
        "  cost.append(var)\n",
        "\n",
        "import matplotlib.pyplot as plt\n",
        "plt.plot(cost)\n"
      ],
      "metadata": {
        "id": "jCA13pTVE79j",
        "outputId": "b07cf460-935b-41a1-a95a-c9e17489c7f5",
        "colab": {
          "base_uri": "https://localhost:8080/",
          "height": 254
        }
      },
      "execution_count": null,
      "outputs": [
        {
          "output_type": "error",
          "ename": "FileNotFoundError",
          "evalue": "ignored",
          "traceback": [
            "\u001b[0;31m---------------------------------------------------------------------------\u001b[0m",
            "\u001b[0;31mFileNotFoundError\u001b[0m                         Traceback (most recent call last)",
            "\u001b[0;32m<ipython-input-1-c5be5eb77660>\u001b[0m in \u001b[0;36m<cell line: 2>\u001b[0;34m()\u001b[0m\n\u001b[1;32m      1\u001b[0m \u001b[0;32mimport\u001b[0m \u001b[0mpickle\u001b[0m\u001b[0;34m\u001b[0m\u001b[0;34m\u001b[0m\u001b[0m\n\u001b[0;32m----> 2\u001b[0;31m \u001b[0mdata\u001b[0m \u001b[0;34m=\u001b[0m \u001b[0mpickle\u001b[0m\u001b[0;34m.\u001b[0m\u001b[0mload\u001b[0m\u001b[0;34m(\u001b[0m\u001b[0mopen\u001b[0m\u001b[0;34m(\u001b[0m\u001b[0;34m\"final_dataset1.pkl\"\u001b[0m\u001b[0;34m,\u001b[0m\u001b[0;34m\"rb\"\u001b[0m\u001b[0;34m)\u001b[0m\u001b[0;34m)\u001b[0m\u001b[0;34m\u001b[0m\u001b[0;34m\u001b[0m\u001b[0m\n\u001b[0m\u001b[1;32m      3\u001b[0m \u001b[0;32mfrom\u001b[0m \u001b[0msklearn\u001b[0m\u001b[0;34m.\u001b[0m\u001b[0mcluster\u001b[0m \u001b[0;32mimport\u001b[0m \u001b[0mKMeans\u001b[0m\u001b[0;34m\u001b[0m\u001b[0;34m\u001b[0m\u001b[0m\n\u001b[1;32m      4\u001b[0m \u001b[0mcost\u001b[0m \u001b[0;34m=\u001b[0m \u001b[0;34m[\u001b[0m\u001b[0;36m0\u001b[0m\u001b[0;34m]\u001b[0m\u001b[0;34m\u001b[0m\u001b[0;34m\u001b[0m\u001b[0m\n\u001b[1;32m      5\u001b[0m \u001b[0;34m\u001b[0m\u001b[0m\n",
            "\u001b[0;31mFileNotFoundError\u001b[0m: [Errno 2] No such file or directory: 'final_dataset1.pkl'"
          ]
        }
      ]
    },
    {
      "cell_type": "code",
      "source": [
        "from numpy import linalg\n",
        "import numpy as np\n",
        "X = data\n",
        "X = X - X.mean(axis=0)\n",
        "U, S, VT = linalg.svd(X)\n",
        "x = X @ VT[0]\n",
        "y = X @ VT[1]\n",
        "\n",
        "kmeans = KMeans(n_clusters =8)\n",
        "model = np.column_stack((x, y))\n",
        "kmeans.fit(model)#학습\n",
        "labels = kmeans.labels_\n",
        "plt.scatter(x,y,c=labels)\n",
        "plt.show()"
      ],
      "metadata": {
        "colab": {
          "base_uri": "https://localhost:8080/",
          "height": 486
        },
        "id": "aC3ai9XSov2L",
        "outputId": "361e07c5-9efc-4386-9cba-86b7f43c061c"
      },
      "execution_count": null,
      "outputs": [
        {
          "output_type": "stream",
          "name": "stderr",
          "text": [
            "/usr/local/lib/python3.10/dist-packages/sklearn/cluster/_kmeans.py:870: FutureWarning: The default value of `n_init` will change from 10 to 'auto' in 1.4. Set the value of `n_init` explicitly to suppress the warning\n",
            "  warnings.warn(\n"
          ]
        },
        {
          "output_type": "display_data",
          "data": {
            "text/plain": [
              "<Figure size 640x480 with 1 Axes>"
            ],
            "image/png": "[encoded data removed]"
          },
          "metadata": {}
        }
      ]
    }
  ]
}
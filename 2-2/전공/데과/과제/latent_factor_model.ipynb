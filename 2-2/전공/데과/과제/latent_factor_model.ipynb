{
  "nbformat": 4,
  "nbformat_minor": 0,
  "metadata": {
    "colab": {
      "provenance": []
    },
    "kernelspec": {
      "name": "python3",
      "display_name": "Python 3"
    },
    "language_info": {
      "name": "python"
    }
  },
  "cells": [
    {
      "cell_type": "code",
      "source": [
        "#파일 다운\n",
        "!wget https://files.grouplens.org/datasets/movielens/ml-100k.zip\n",
        "!unzip ml-100k.zip"
      ],
      "metadata": {
        "id": "Hnbsy460B5AD"
      },
      "execution_count": null,
      "outputs": []
    },
    {
      "cell_type": "code",
      "source": [
        "import torch\n",
        "import pandas as pd\n",
        "import torch.nn as nn\n",
        "import torch.nn.functional as F\n",
        "import matplotlib.pyplot as plt\n"
      ],
      "metadata": {
        "id": "wcm2Sc3bB9yy"
      },
      "execution_count": 2,
      "outputs": []
    },
    {
      "cell_type": "code",
      "source": [
        "#데이터 불러오기\n",
        "train = pd.read_csv(\"ml-100k/ua.base\",\n",
        " sep=\"\\t\", names=['user', 'item', 'rating', 'timestamp'])\n",
        "test = pd.read_csv(\"ml-100k/ua.test\",\n",
        " sep=\"\\t\", names=['user', 'item', 'rating', 'timestamp'])"
      ],
      "metadata": {
        "id": "LnMb7EHvCmoc"
      },
      "execution_count": 3,
      "outputs": []
    },
    {
      "cell_type": "code",
      "source": [
        "#torch 데이터로 변환\n",
        "items = torch.LongTensor(train['item'])\n",
        "users = torch.LongTensor(train['user'])\n",
        "ratings = torch.FloatTensor(train['rating'])\n",
        "items_test = torch.LongTensor(test['item'])\n",
        "users_test = torch.LongTensor(test['user'])\n",
        "ratings_test = torch.FloatTensor(test['rating'])"
      ],
      "metadata": {
        "id": "MreTolg4DBQp"
      },
      "execution_count": 6,
      "outputs": []
    },
    {
      "cell_type": "code",
      "source": [
        "rank = 10\n",
        "lambda1 = 0.1\n",
        "lambda2 = 0.1\n",
        "lambda3 = 0.1\n",
        "lambda4 = 0.1\n",
        "\n",
        "\n",
        "numItems = max(items) + 1\n",
        "numUsers = max(users) + 1\n",
        "\n",
        "mean = ratings.mean()\n",
        "\n",
        "P = torch.randn(numItems, rank, requires_grad=True)\n",
        "Q = torch.randn(numUsers, rank, requires_grad=True)\n",
        "bias_user = torch.randn(numUsers, requires_grad=True)\n",
        "bias_item = torch.randn(numItems, requires_grad=True)\n",
        "\n",
        "\n",
        "mse = nn.MSELoss()\n",
        "\n",
        "#optim = torch.optim.Adam([P,Q], lr = 0.1)\n",
        "optim = torch.optim.Adam([P,Q,bias_user,bias_item], lr = 0.1)\n",
        "\n",
        "x=[]\n",
        "y=[]\n",
        "y_test=[]\n",
        "\n",
        "\n",
        "for epoch in range(1001):\n",
        "\n",
        "  #h = (P[items] * Q[users]).sum(dim=1)\n",
        "  h = (P[items] * Q[users]).sum(dim=1) + mean + bias_item[items] + bias_user[users]\n",
        "  cost = mse(h, ratings)\n",
        "  #cost_reg = cost + lambda1 * (P ** 2).mean() + lambda2 * (Q ** 2).mean()\n",
        "  cost_reg = cost + lambda1 * (P ** 2).mean() + lambda2 * (Q ** 2).mean() + \\\n",
        "  lambda3 *(bias_item**2).mean() + lambda4 *(bias_user**2).mean()\n",
        "\n",
        "  optim.zero_grad()\n",
        "  cost_reg.backward()\n",
        "  #cost.backward()\n",
        "  optim.step()\n",
        "\n",
        "  with torch.no_grad():\n",
        "    x.append(epoch)\n",
        "    y.append(cost.item())\n",
        "\n",
        "\n",
        "    #h_test = (P[items_test]*Q[users_test]).sum(dim=1)\n",
        "    h_test = (P[items_test]*Q[users_test]).sum(dim=1) + mean \\\n",
        "              + bias_item[items_test] + bias_user[users_test]\n",
        "    cost_test = mse(h_test, ratings_test)\n",
        "\n",
        "    y_test.append(cost_test.item())\n",
        "\n",
        "    if epoch % 100 == 0:\n",
        "      print(f\"epoch: {epoch}, cost: {cost.item()}, test_cost:{cost_test}\")\n",
        "\n",
        "plt.plot(x,y,label=\"train MSE\")\n",
        "plt.plot(x,y_test,label=\"test MSE\")\n",
        "plt.legend()\n",
        "plt.show()"
      ],
      "metadata": {
        "colab": {
          "base_uri": "https://localhost:8080/",
          "height": 629
        },
        "id": "ze0SA24-Dwc3",
        "outputId": "7b005fa3-b3ed-424b-8087-17b33411b691"
      },
      "execution_count": 23,
      "outputs": [
        {
          "output_type": "stream",
          "name": "stdout",
          "text": [
            "epoch: 0, cost: 13.963217735290527, test_cost:11.089017868041992\n",
            "epoch: 100, cost: 0.5070917010307312, test_cost:1.1178498268127441\n",
            "epoch: 200, cost: 0.45880982279777527, test_cost:1.136626958847046\n",
            "epoch: 300, cost: 0.4474954605102539, test_cost:1.168376088142395\n",
            "epoch: 400, cost: 0.4439549446105957, test_cost:1.195642113685608\n",
            "epoch: 500, cost: 0.44155651330947876, test_cost:1.2132972478866577\n",
            "epoch: 600, cost: 0.4402010440826416, test_cost:1.219245433807373\n",
            "epoch: 700, cost: 0.4395757019519806, test_cost:1.2213391065597534\n",
            "epoch: 800, cost: 0.4393249452114105, test_cost:1.219879150390625\n",
            "epoch: 900, cost: 0.439144104719162, test_cost:1.2164454460144043\n",
            "epoch: 1000, cost: 0.43887820839881897, test_cost:1.2130793333053589\n"
          ]
        },
        {
          "output_type": "display_data",
          "data": {
            "text/plain": [
              "<Figure size 640x480 with 1 Axes>"
            ],
            "image/png": "[encoded data removed]"
          },
          "metadata": {}
        }
      ]
    }
  ]
}